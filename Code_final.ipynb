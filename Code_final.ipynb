{
 "cells": [
  {
   "cell_type": "code",
   "execution_count": 1,
   "id": "491542e8",
   "metadata": {
    "ExecuteTime": {
     "end_time": "2022-05-05T18:57:29.262326Z",
     "start_time": "2022-05-05T18:57:27.524383Z"
    }
   },
   "outputs": [],
   "source": [
    "import pandas as pd\n",
    "import numpy as np\n",
    "import matplotlib as mpl\n",
    "import matplotlib.pyplot as plt"
   ]
  },
  {
   "cell_type": "markdown",
   "id": "0f5e71d9",
   "metadata": {},
   "source": [
    "La variable `year` permet de selectionner le fichier de données souhaité."
   ]
  },
  {
   "cell_type": "code",
   "execution_count": 2,
   "id": "9fbe53f9",
   "metadata": {
    "ExecuteTime": {
     "end_time": "2022-05-05T18:57:29.267831Z",
     "start_time": "2022-05-05T18:57:29.264346Z"
    }
   },
   "outputs": [],
   "source": [
    "year = 2021"
   ]
  },
  {
   "cell_type": "markdown",
   "id": "06ed3d15",
   "metadata": {},
   "source": [
    "Ouverture du fichier souhaité."
   ]
  },
  {
   "cell_type": "code",
   "execution_count": 3,
   "id": "07ab09e4",
   "metadata": {
    "ExecuteTime": {
     "end_time": "2022-05-05T18:57:47.257831Z",
     "start_time": "2022-05-05T18:57:29.271237Z"
    }
   },
   "outputs": [],
   "source": [
    "df = pd.read_csv('valeursfoncieres_' + str(year) + '.csv',\n",
    "                 sep=\"|\",\n",
    "                 header=0,\n",
    "                 encoding='UTF-8',\n",
    "                 low_memory=False)"
   ]
  },
  {
   "cell_type": "markdown",
   "id": "04b92ac0",
   "metadata": {
    "ExecuteTime": {
     "end_time": "2022-05-05T10:34:17.062871Z",
     "start_time": "2022-05-05T10:33:58.940807Z"
    }
   },
   "source": [
    "On récupère les dimensions du dataframe pour analyser la quantité de donné supprrimé à chaque étape du Cleansing & Wrangling."
   ]
  },
  {
   "cell_type": "code",
   "execution_count": 4,
   "id": "f55bbea9",
   "metadata": {
    "ExecuteTime": {
     "end_time": "2022-05-05T18:57:47.267457Z",
     "start_time": "2022-05-05T18:57:47.261962Z"
    },
    "scrolled": true
   },
   "outputs": [],
   "source": [
    "row_count = len(df.index)\n",
    "col_count = len(df.columns)"
   ]
  },
  {
   "cell_type": "markdown",
   "id": "e93a1b90",
   "metadata": {},
   "source": [
    "#  1. Data Preparation - Cleansing & Wrangling"
   ]
  },
  {
   "cell_type": "markdown",
   "id": "0a92265e",
   "metadata": {},
   "source": [
    "### Incompleteness\n",
    "\n",
    "Suppression des colonnes et lignes avec des données manquantes."
   ]
  },
  {
   "cell_type": "code",
   "execution_count": 5,
   "id": "3a8daf99",
   "metadata": {
    "ExecuteTime": {
     "end_time": "2022-05-05T18:57:50.171005Z",
     "start_time": "2022-05-05T18:57:47.270191Z"
    }
   },
   "outputs": [
    {
     "name": "stdout",
     "output_type": "stream",
     "text": [
      "22 colonnes supprimées.\n"
     ]
    }
   ],
   "source": [
    "# On commence par supprimer toutes les colonnes dont au moins la moitié des lignes sont vides\n",
    "seuil = len(df.index) * 0.5\n",
    "df = df.loc[:, df.count() > seuil]\n",
    "\n",
    "# Nombre de colonnes suppimées.\n",
    "print(str(col_count - len(df.columns)) + ' colonnes supprimées.')\n",
    "col_count = len(df.columns)"
   ]
  },
  {
   "cell_type": "code",
   "execution_count": 6,
   "id": "206feafe",
   "metadata": {
    "ExecuteTime": {
     "end_time": "2022-05-05T18:57:50.851457Z",
     "start_time": "2022-05-05T18:57:50.173874Z"
    }
   },
   "outputs": [
    {
     "name": "stdout",
     "output_type": "stream",
     "text": [
      "32780 lignes supprimées.\n"
     ]
    }
   ],
   "source": [
    "# Supprimer les lignes du dataframe qui n'ont pas de valeur foncière\n",
    "df = df.dropna(subset=['Valeur fonciere'])\n",
    "\n",
    "# Nombre de lignes suppimées.\n",
    "print(str(row_count - len(df.index)) + ' lignes supprimées.')\n",
    "row_count = len(df.index)"
   ]
  },
  {
   "cell_type": "code",
   "execution_count": 7,
   "id": "91e5f3a6",
   "metadata": {
    "ExecuteTime": {
     "end_time": "2022-05-05T18:57:51.558697Z",
     "start_time": "2022-05-05T18:57:50.853824Z"
    }
   },
   "outputs": [
    {
     "name": "stdout",
     "output_type": "stream",
     "text": [
      "630818 lignes supprimées.\n"
     ]
    }
   ],
   "source": [
    "# Supprimer les lignes du dataframe qui n'ont pas de donnée de surface\n",
    "\n",
    "# Creation d'une variable (colonne) pour la surface du bien.\n",
    "df['Surface'] = df[['Surface terrain','Surface reelle bati']].max(axis=1)\n",
    "df = df[df['Surface'] > 0]\n",
    "\n",
    "# Nombre de lignes suppimées.\n",
    "print(str(row_count - len(df.index)) + ' lignes supprimées.')\n",
    "row_count = len(df.index)"
   ]
  },
  {
   "cell_type": "markdown",
   "id": "948e639d",
   "metadata": {},
   "source": [
    "### Duplicates"
   ]
  },
  {
   "cell_type": "code",
   "execution_count": 8,
   "id": "7d64026a",
   "metadata": {
    "ExecuteTime": {
     "end_time": "2022-05-05T18:57:55.410451Z",
     "start_time": "2022-05-05T18:57:51.560495Z"
    }
   },
   "outputs": [
    {
     "name": "stdout",
     "output_type": "stream",
     "text": [
      "206460 lignes supprimées.\n"
     ]
    }
   ],
   "source": [
    "df = df.drop_duplicates(keep='first')\n",
    "\n",
    "# Nombre de lignes suppimées.\n",
    "print(str(row_count - len(df.index)) + ' lignes supprimées.')\n",
    "row_count = len(df.index)"
   ]
  },
  {
   "cell_type": "markdown",
   "id": "34d7bd96",
   "metadata": {},
   "source": [
    "### Data selection\n",
    "\n",
    "Suppression des colonnes non pertinentes dans le cadre de l'analyse des données."
   ]
  },
  {
   "cell_type": "code",
   "execution_count": 9,
   "id": "224a9388",
   "metadata": {
    "ExecuteTime": {
     "end_time": "2022-05-05T18:57:55.630678Z",
     "start_time": "2022-05-05T18:57:55.415554Z"
    }
   },
   "outputs": [
    {
     "name": "stdout",
     "output_type": "stream",
     "text": [
      "10 colonnes supprimées.\n"
     ]
    }
   ],
   "source": [
    "df = df.drop([\n",
    "    'No disposition', 'No voie', 'Type de voie', 'Code voie', 'Code commune',\n",
    "    'Section', 'No plan', 'Nombre de lots', 'Code type local',\n",
    "    'Nombre pieces principales', 'Nature culture'\n",
    "],\n",
    "             axis=1)\n",
    "\n",
    "# Nombre de colonnes suppimées.\n",
    "print(str(col_count - len(df.columns)) + ' colonnes supprimées.')\n",
    "col_count = len(df.columns)"
   ]
  },
  {
   "cell_type": "markdown",
   "id": "97a9095b",
   "metadata": {},
   "source": [
    "### Data type conversions\n",
    "\n",
    "Suite a l'impot des données dans le dataframe, certaines colonnes n'ont pas le type appropriés comme les valeurs foncières qui sont des `string` et non pas des `float`."
   ]
  },
  {
   "cell_type": "code",
   "execution_count": 10,
   "id": "53eadd7c",
   "metadata": {
    "ExecuteTime": {
     "end_time": "2022-05-05T18:57:58.659331Z",
     "start_time": "2022-05-05T18:57:55.634014Z"
    }
   },
   "outputs": [],
   "source": [
    "# Dates -> datetime\n",
    "df['Date mutation'] = pd.to_datetime(df['Date mutation'], format='%d/%m/%Y')\n",
    "\n",
    "# Valeur fonciere -> float\n",
    "df.loc[:, 'Valeur fonciere'] = df['Valeur fonciere'].str.replace(',', '.')\n",
    "df.loc[:, 'Valeur fonciere'] = df['Valeur fonciere'].astype(float)\n",
    "\n",
    "# Code postal -> str\n",
    "df.loc[:,['Code postal']] = df['Code postal'].astype('Int64')\n",
    "df.loc[:,['Code postal']] = df['Code postal'].astype(str)"
   ]
  },
  {
   "cell_type": "markdown",
   "id": "42a99771",
   "metadata": {},
   "source": [
    "### Invalidity"
   ]
  },
  {
   "cell_type": "code",
   "execution_count": 11,
   "id": "47d350dc",
   "metadata": {
    "ExecuteTime": {
     "end_time": "2022-05-05T18:57:59.684230Z",
     "start_time": "2022-05-05T18:57:58.661546Z"
    }
   },
   "outputs": [
    {
     "name": "stdout",
     "output_type": "stream",
     "text": [
      "0 lignes supprimées.\n"
     ]
    }
   ],
   "source": [
    "# On élimine les lignes avec une valeur foncière négative\n",
    "df = df.loc[df['Valeur fonciere'] >= 0]\n",
    "\n",
    "# On élimine les lignes avec une surface négative\n",
    "df = df.loc[df['Surface reelle bati'].notnull() >= 0]\n",
    "df = df.loc[df['Surface terrain'].notnull() >= 0]\n",
    "\n",
    "# Nombre de lignes suppimées.\n",
    "print(str(row_count - len(df.index)) + ' lignes supprimées.')\n",
    "row_count = len(df.index)"
   ]
  },
  {
   "cell_type": "markdown",
   "id": "58c08397",
   "metadata": {},
   "source": [
    "### Inconsistency"
   ]
  },
  {
   "cell_type": "code",
   "execution_count": 12,
   "id": "cd108156",
   "metadata": {
    "ExecuteTime": {
     "end_time": "2022-05-05T18:58:01.967127Z",
     "start_time": "2022-05-05T18:57:59.686268Z"
    }
   },
   "outputs": [
    {
     "name": "stdout",
     "output_type": "stream",
     "text": [
      "0 lignes supprimées.\n"
     ]
    }
   ],
   "source": [
    "code_lengths = df['Code departement'].astype(str).apply(lambda cd: len(cd)).values\n",
    "df = df.loc[df['Code departement'] != df['Code postal'].str[code_lengths[0]]]\n",
    "\n",
    "# Nombre de lignes suppimées.\n",
    "print(str(row_count - len(df.index)) + ' lignes supprimées.')\n",
    "row_count = len(df.index)"
   ]
  },
  {
   "cell_type": "code",
   "execution_count": 13,
   "id": "03806d05",
   "metadata": {
    "ExecuteTime": {
     "end_time": "2022-05-05T18:58:01.972541Z",
     "start_time": "2022-05-05T18:58:01.969141Z"
    }
   },
   "outputs": [],
   "source": [
    "#df.loc[:, 'Code departement'] = df['Code departement'].str.replace('[A-Za-z\\.]', '')"
   ]
  },
  {
   "cell_type": "markdown",
   "id": "0e1a2f47",
   "metadata": {
    "ExecuteTime": {
     "end_time": "2022-05-03T23:11:14.828270Z",
     "start_time": "2022-05-03T23:11:14.789718Z"
    }
   },
   "source": [
    "### Aggregation"
   ]
  },
  {
   "cell_type": "code",
   "execution_count": 14,
   "id": "70769558",
   "metadata": {
    "ExecuteTime": {
     "end_time": "2022-05-05T18:58:01.986679Z",
     "start_time": "2022-05-05T18:58:01.974325Z"
    }
   },
   "outputs": [
    {
     "name": "stdout",
     "output_type": "stream",
     "text": [
      "1 colonnes ajoutées.\n"
     ]
    }
   ],
   "source": [
    "# Creation d'une variable (colonne) pour le prix au mètre carré.\n",
    "df['Prix m2'] = df['Valeur fonciere'] / df['Surface']\n",
    "\n",
    "# Nombre de colonnes ajoutées.\n",
    "print(str(abs(col_count - len(df.columns))) + ' colonnes ajoutées.')\n",
    "col_count = len(df.columns)"
   ]
  },
  {
   "cell_type": "markdown",
   "id": "ba96140f",
   "metadata": {},
   "source": [
    "### Filtration"
   ]
  },
  {
   "cell_type": "markdown",
   "id": "2d1a3eb2",
   "metadata": {},
   "source": [
    "On crée deux filtres pour l'analyse des données par département et par mois."
   ]
  },
  {
   "cell_type": "code",
   "execution_count": 15,
   "id": "c8c6ecca",
   "metadata": {
    "ExecuteTime": {
     "end_time": "2022-05-05T18:58:01.992374Z",
     "start_time": "2022-05-05T18:58:01.989234Z"
    }
   },
   "outputs": [],
   "source": [
    "def select_month(df, m):\n",
    "    return df[pd.DatetimeIndex(df['Date mutation']).month == m]\n",
    "\n",
    "def select_dep(df, dep):\n",
    "    return df.loc[df['Code departement'] == dep]"
   ]
  },
  {
   "cell_type": "code",
   "execution_count": 16,
   "id": "5f2f5624",
   "metadata": {
    "ExecuteTime": {
     "end_time": "2022-05-05T18:58:02.078354Z",
     "start_time": "2022-05-05T18:58:01.994488Z"
    }
   },
   "outputs": [
    {
     "name": "stdout",
     "output_type": "stream",
     "text": [
      "296732.9\n"
     ]
    }
   ],
   "source": [
    "# Création de 10 intervalles pour surface terrain --> stocké dans la colonne Surface terrain Intervalle\n",
    "\n",
    "# Définiton de la taille des intervalles\n",
    "I = (df[\"Surface terrain\"].max()) / 10\n",
    "print(I)\n",
    "\n",
    "df[\"Surface terrain Intervalle\"] = pd.cut(df[\"Surface terrain\"],\n",
    "                                          bins=[\n",
    "                                              df[\"Surface terrain\"].min(), I,\n",
    "                                              I * 2, I * 3, I * 4, I * 5,\n",
    "                                              I * 6, I * 7, I * 8, I * 9,\n",
    "                                              I * 10\n",
    "                                          ],\n",
    "                                          include_lowest=True)"
   ]
  },
  {
   "cell_type": "code",
   "execution_count": 17,
   "id": "39aeee5c",
   "metadata": {
    "ExecuteTime": {
     "end_time": "2022-05-05T18:58:02.244800Z",
     "start_time": "2022-05-05T18:58:02.080704Z"
    }
   },
   "outputs": [],
   "source": [
    "df[\"Surface reelle bati intervalle\"] = pd.qcut(\n",
    "    df[\"Surface reelle bati\"],\n",
    "    4,\n",
    "    labels=[\"Petit\", \"Moyen\", \"Grand\", \"Tres grand\"])"
   ]
  },
  {
   "cell_type": "markdown",
   "id": "44e0135b",
   "metadata": {},
   "source": [
    "## Outliers"
   ]
  },
  {
   "cell_type": "code",
   "execution_count": 18,
   "id": "aee7ef05",
   "metadata": {
    "ExecuteTime": {
     "end_time": "2022-05-05T18:58:02.299877Z",
     "start_time": "2022-05-05T18:58:02.246479Z"
    }
   },
   "outputs": [],
   "source": [
    "def remove_outliers(df, col):\n",
    "    Q3 = np.nanquantile(df[col], 0.75)\n",
    "    Q1 = np.nanquantile(df[col], 0.25)\n",
    "\n",
    "    IQR = Q3 - Q1\n",
    "\n",
    "    lower_range = Q1 - 1.5 * IQR\n",
    "    upper_range = Q3 + 1.5 * IQR\n",
    "\n",
    "    upper = df[df[col] > lower_range]\n",
    "    lower = upper[upper[col] < upper_range]\n",
    "\n",
    "    return lower"
   ]
  },
  {
   "cell_type": "code",
   "execution_count": 19,
   "id": "940a2426",
   "metadata": {
    "ExecuteTime": {
     "end_time": "2022-05-05T18:58:03.727886Z",
     "start_time": "2022-05-05T18:58:02.302463Z"
    },
    "scrolled": true
   },
   "outputs": [
    {
     "name": "stdout",
     "output_type": "stream",
     "text": [
      "716237 lignes supprimées.\n"
     ]
    }
   ],
   "source": [
    "for col in ['Valeur fonciere', 'Surface', 'Prix m2']:\n",
    "    df = remove_outliers(df, col)\n",
    "\n",
    "# Nombre de lignes supprimées.\n",
    "print(str(row_count - len(df.index)) + ' lignes supprimées.')\n",
    "row_count = len(df.index)"
   ]
  },
  {
   "cell_type": "markdown",
   "id": "b0ff86c1",
   "metadata": {},
   "source": [
    "## Normalisation\n",
    "\n",
    "On ajoute unee colonne contenant les valeurs foncieres normalisées."
   ]
  },
  {
   "cell_type": "code",
   "execution_count": 20,
   "id": "75080b8b",
   "metadata": {
    "ExecuteTime": {
     "end_time": "2022-05-05T18:58:03.748073Z",
     "start_time": "2022-05-05T18:58:03.729512Z"
    }
   },
   "outputs": [],
   "source": [
    "Min = df['Valeur fonciere'].min()\n",
    "Max = df['Valeur fonciere'].max()\n",
    "\n",
    "df['Valeur fonciere normalisee'] = (df['Valeur fonciere'] - Min)/(Max - Min)"
   ]
  },
  {
   "cell_type": "code",
   "execution_count": 21,
   "id": "5cffad78",
   "metadata": {
    "ExecuteTime": {
     "end_time": "2022-05-05T18:58:03.786351Z",
     "start_time": "2022-05-05T18:58:03.749989Z"
    }
   },
   "outputs": [
    {
     "data": {
      "text/html": [
       "<div>\n",
       "<style scoped>\n",
       "    .dataframe tbody tr th:only-of-type {\n",
       "        vertical-align: middle;\n",
       "    }\n",
       "\n",
       "    .dataframe tbody tr th {\n",
       "        vertical-align: top;\n",
       "    }\n",
       "\n",
       "    .dataframe thead th {\n",
       "        text-align: right;\n",
       "    }\n",
       "</style>\n",
       "<table border=\"1\" class=\"dataframe\">\n",
       "  <thead>\n",
       "    <tr style=\"text-align: right;\">\n",
       "      <th></th>\n",
       "      <th>Date mutation</th>\n",
       "      <th>Nature mutation</th>\n",
       "      <th>Valeur fonciere</th>\n",
       "      <th>Voie</th>\n",
       "      <th>Code postal</th>\n",
       "      <th>Commune</th>\n",
       "      <th>Code departement</th>\n",
       "      <th>Type local</th>\n",
       "      <th>Surface reelle bati</th>\n",
       "      <th>Surface terrain</th>\n",
       "      <th>Surface</th>\n",
       "      <th>Prix m2</th>\n",
       "      <th>Surface terrain Intervalle</th>\n",
       "      <th>Surface reelle bati intervalle</th>\n",
       "      <th>Valeur fonciere normalisee</th>\n",
       "    </tr>\n",
       "  </thead>\n",
       "  <tbody>\n",
       "    <tr>\n",
       "      <th>0</th>\n",
       "      <td>2021-01-05</td>\n",
       "      <td>Vente</td>\n",
       "      <td>185000.0</td>\n",
       "      <td>DE VOGELAS</td>\n",
       "      <td>1370</td>\n",
       "      <td>VAL-REVERMONT</td>\n",
       "      <td>01</td>\n",
       "      <td>Maison</td>\n",
       "      <td>97.0</td>\n",
       "      <td>2410.0</td>\n",
       "      <td>2410.0</td>\n",
       "      <td>76.763485</td>\n",
       "      <td>(-0.001, 296732.9]</td>\n",
       "      <td>Grand</td>\n",
       "      <td>0.302549</td>\n",
       "    </tr>\n",
       "    <tr>\n",
       "      <th>1</th>\n",
       "      <td>2021-01-05</td>\n",
       "      <td>Vente</td>\n",
       "      <td>185000.0</td>\n",
       "      <td>DE VOGELAS</td>\n",
       "      <td>1370</td>\n",
       "      <td>VAL-REVERMONT</td>\n",
       "      <td>01</td>\n",
       "      <td>Dépendance</td>\n",
       "      <td>0.0</td>\n",
       "      <td>2410.0</td>\n",
       "      <td>2410.0</td>\n",
       "      <td>76.763485</td>\n",
       "      <td>(-0.001, 296732.9]</td>\n",
       "      <td>Petit</td>\n",
       "      <td>0.302549</td>\n",
       "    </tr>\n",
       "    <tr>\n",
       "      <th>2</th>\n",
       "      <td>2021-01-06</td>\n",
       "      <td>Vente</td>\n",
       "      <td>10.0</td>\n",
       "      <td>ROUGEMONT</td>\n",
       "      <td>1290</td>\n",
       "      <td>BEY</td>\n",
       "      <td>01</td>\n",
       "      <td>NaN</td>\n",
       "      <td>NaN</td>\n",
       "      <td>530.0</td>\n",
       "      <td>530.0</td>\n",
       "      <td>0.018868</td>\n",
       "      <td>(-0.001, 296732.9]</td>\n",
       "      <td>NaN</td>\n",
       "      <td>0.000016</td>\n",
       "    </tr>\n",
       "    <tr>\n",
       "      <th>3</th>\n",
       "      <td>2021-01-04</td>\n",
       "      <td>Vente</td>\n",
       "      <td>204332.0</td>\n",
       "      <td>DES ECUREUILS</td>\n",
       "      <td>1310</td>\n",
       "      <td>BUELLAS</td>\n",
       "      <td>01</td>\n",
       "      <td>Maison</td>\n",
       "      <td>88.0</td>\n",
       "      <td>866.0</td>\n",
       "      <td>866.0</td>\n",
       "      <td>235.949192</td>\n",
       "      <td>(-0.001, 296732.9]</td>\n",
       "      <td>Grand</td>\n",
       "      <td>0.334165</td>\n",
       "    </tr>\n",
       "    <tr>\n",
       "      <th>4</th>\n",
       "      <td>2021-01-06</td>\n",
       "      <td>Vente</td>\n",
       "      <td>320000.0</td>\n",
       "      <td>DE CERTINES</td>\n",
       "      <td>1250</td>\n",
       "      <td>MONTAGNAT</td>\n",
       "      <td>01</td>\n",
       "      <td>Maison</td>\n",
       "      <td>168.0</td>\n",
       "      <td>1426.0</td>\n",
       "      <td>1426.0</td>\n",
       "      <td>224.403927</td>\n",
       "      <td>(-0.001, 296732.9]</td>\n",
       "      <td>Tres grand</td>\n",
       "      <td>0.523329</td>\n",
       "    </tr>\n",
       "    <tr>\n",
       "      <th>...</th>\n",
       "      <td>...</td>\n",
       "      <td>...</td>\n",
       "      <td>...</td>\n",
       "      <td>...</td>\n",
       "      <td>...</td>\n",
       "      <td>...</td>\n",
       "      <td>...</td>\n",
       "      <td>...</td>\n",
       "      <td>...</td>\n",
       "      <td>...</td>\n",
       "      <td>...</td>\n",
       "      <td>...</td>\n",
       "      <td>...</td>\n",
       "      <td>...</td>\n",
       "      <td>...</td>\n",
       "    </tr>\n",
       "    <tr>\n",
       "      <th>3379110</th>\n",
       "      <td>2021-02-11</td>\n",
       "      <td>Vente</td>\n",
       "      <td>372000.0</td>\n",
       "      <td>DU MAIL</td>\n",
       "      <td>75002</td>\n",
       "      <td>PARIS 02</td>\n",
       "      <td>75</td>\n",
       "      <td>Local industriel. commercial ou assimilé</td>\n",
       "      <td>93.0</td>\n",
       "      <td>NaN</td>\n",
       "      <td>93.0</td>\n",
       "      <td>4000.000000</td>\n",
       "      <td>NaN</td>\n",
       "      <td>Grand</td>\n",
       "      <td>0.608370</td>\n",
       "    </tr>\n",
       "    <tr>\n",
       "      <th>3379124</th>\n",
       "      <td>2021-03-01</td>\n",
       "      <td>Vente</td>\n",
       "      <td>190000.0</td>\n",
       "      <td>D ABOUKIR</td>\n",
       "      <td>75002</td>\n",
       "      <td>PARIS 02</td>\n",
       "      <td>75</td>\n",
       "      <td>Local industriel. commercial ou assimilé</td>\n",
       "      <td>77.0</td>\n",
       "      <td>NaN</td>\n",
       "      <td>77.0</td>\n",
       "      <td>2467.532468</td>\n",
       "      <td>NaN</td>\n",
       "      <td>Grand</td>\n",
       "      <td>0.310726</td>\n",
       "    </tr>\n",
       "    <tr>\n",
       "      <th>3379156</th>\n",
       "      <td>2021-03-08</td>\n",
       "      <td>Vente</td>\n",
       "      <td>100000.0</td>\n",
       "      <td>ST LOUIS EN L ILE</td>\n",
       "      <td>75004</td>\n",
       "      <td>PARIS 04</td>\n",
       "      <td>75</td>\n",
       "      <td>Appartement</td>\n",
       "      <td>29.0</td>\n",
       "      <td>NaN</td>\n",
       "      <td>29.0</td>\n",
       "      <td>3448.275862</td>\n",
       "      <td>NaN</td>\n",
       "      <td>Petit</td>\n",
       "      <td>0.163540</td>\n",
       "    </tr>\n",
       "    <tr>\n",
       "      <th>3379207</th>\n",
       "      <td>2021-03-08</td>\n",
       "      <td>Vente</td>\n",
       "      <td>220000.0</td>\n",
       "      <td>SAINT-DENIS</td>\n",
       "      <td>75002</td>\n",
       "      <td>PARIS 02</td>\n",
       "      <td>75</td>\n",
       "      <td>Local industriel. commercial ou assimilé</td>\n",
       "      <td>197.0</td>\n",
       "      <td>NaN</td>\n",
       "      <td>197.0</td>\n",
       "      <td>1116.751269</td>\n",
       "      <td>NaN</td>\n",
       "      <td>Tres grand</td>\n",
       "      <td>0.359789</td>\n",
       "    </tr>\n",
       "    <tr>\n",
       "      <th>3379213</th>\n",
       "      <td>2021-03-10</td>\n",
       "      <td>Vente</td>\n",
       "      <td>100.0</td>\n",
       "      <td>DES LOMBARDS</td>\n",
       "      <td>75004</td>\n",
       "      <td>PARIS 04</td>\n",
       "      <td>75</td>\n",
       "      <td>Appartement</td>\n",
       "      <td>18.0</td>\n",
       "      <td>NaN</td>\n",
       "      <td>18.0</td>\n",
       "      <td>5.555556</td>\n",
       "      <td>NaN</td>\n",
       "      <td>Petit</td>\n",
       "      <td>0.000163</td>\n",
       "    </tr>\n",
       "  </tbody>\n",
       "</table>\n",
       "<p>1792937 rows × 15 columns</p>\n",
       "</div>"
      ],
      "text/plain": [
       "        Date mutation Nature mutation  Valeur fonciere               Voie  \\\n",
       "0          2021-01-05           Vente         185000.0         DE VOGELAS   \n",
       "1          2021-01-05           Vente         185000.0         DE VOGELAS   \n",
       "2          2021-01-06           Vente             10.0          ROUGEMONT   \n",
       "3          2021-01-04           Vente         204332.0      DES ECUREUILS   \n",
       "4          2021-01-06           Vente         320000.0        DE CERTINES   \n",
       "...               ...             ...              ...                ...   \n",
       "3379110    2021-02-11           Vente         372000.0            DU MAIL   \n",
       "3379124    2021-03-01           Vente         190000.0          D ABOUKIR   \n",
       "3379156    2021-03-08           Vente         100000.0  ST LOUIS EN L ILE   \n",
       "3379207    2021-03-08           Vente         220000.0        SAINT-DENIS   \n",
       "3379213    2021-03-10           Vente            100.0       DES LOMBARDS   \n",
       "\n",
       "        Code postal        Commune Code departement  \\\n",
       "0              1370  VAL-REVERMONT               01   \n",
       "1              1370  VAL-REVERMONT               01   \n",
       "2              1290            BEY               01   \n",
       "3              1310        BUELLAS               01   \n",
       "4              1250      MONTAGNAT               01   \n",
       "...             ...            ...              ...   \n",
       "3379110       75002       PARIS 02               75   \n",
       "3379124       75002       PARIS 02               75   \n",
       "3379156       75004       PARIS 04               75   \n",
       "3379207       75002       PARIS 02               75   \n",
       "3379213       75004       PARIS 04               75   \n",
       "\n",
       "                                       Type local  Surface reelle bati  \\\n",
       "0                                          Maison                 97.0   \n",
       "1                                      Dépendance                  0.0   \n",
       "2                                             NaN                  NaN   \n",
       "3                                          Maison                 88.0   \n",
       "4                                          Maison                168.0   \n",
       "...                                           ...                  ...   \n",
       "3379110  Local industriel. commercial ou assimilé                 93.0   \n",
       "3379124  Local industriel. commercial ou assimilé                 77.0   \n",
       "3379156                               Appartement                 29.0   \n",
       "3379207  Local industriel. commercial ou assimilé                197.0   \n",
       "3379213                               Appartement                 18.0   \n",
       "\n",
       "         Surface terrain  Surface      Prix m2 Surface terrain Intervalle  \\\n",
       "0                 2410.0   2410.0    76.763485         (-0.001, 296732.9]   \n",
       "1                 2410.0   2410.0    76.763485         (-0.001, 296732.9]   \n",
       "2                  530.0    530.0     0.018868         (-0.001, 296732.9]   \n",
       "3                  866.0    866.0   235.949192         (-0.001, 296732.9]   \n",
       "4                 1426.0   1426.0   224.403927         (-0.001, 296732.9]   \n",
       "...                  ...      ...          ...                        ...   \n",
       "3379110              NaN     93.0  4000.000000                        NaN   \n",
       "3379124              NaN     77.0  2467.532468                        NaN   \n",
       "3379156              NaN     29.0  3448.275862                        NaN   \n",
       "3379207              NaN    197.0  1116.751269                        NaN   \n",
       "3379213              NaN     18.0     5.555556                        NaN   \n",
       "\n",
       "        Surface reelle bati intervalle  Valeur fonciere normalisee  \n",
       "0                                Grand                    0.302549  \n",
       "1                                Petit                    0.302549  \n",
       "2                                  NaN                    0.000016  \n",
       "3                                Grand                    0.334165  \n",
       "4                           Tres grand                    0.523329  \n",
       "...                                ...                         ...  \n",
       "3379110                          Grand                    0.608370  \n",
       "3379124                          Grand                    0.310726  \n",
       "3379156                          Petit                    0.163540  \n",
       "3379207                     Tres grand                    0.359789  \n",
       "3379213                          Petit                    0.000163  \n",
       "\n",
       "[1792937 rows x 15 columns]"
      ]
     },
     "execution_count": 21,
     "metadata": {},
     "output_type": "execute_result"
    }
   ],
   "source": [
    "df"
   ]
  },
  {
   "cell_type": "markdown",
   "id": "0bf6549d",
   "metadata": {},
   "source": [
    "# 2. Data visualisation"
   ]
  },
  {
   "cell_type": "code",
   "execution_count": 22,
   "id": "1f988b54",
   "metadata": {
    "ExecuteTime": {
     "end_time": "2022-05-05T18:58:04.211049Z",
     "start_time": "2022-05-05T18:58:03.788591Z"
    }
   },
   "outputs": [
    {
     "data": {
      "text/html": [
       "<div>\n",
       "<style scoped>\n",
       "    .dataframe tbody tr th:only-of-type {\n",
       "        vertical-align: middle;\n",
       "    }\n",
       "\n",
       "    .dataframe tbody tr th {\n",
       "        vertical-align: top;\n",
       "    }\n",
       "\n",
       "    .dataframe thead th {\n",
       "        text-align: right;\n",
       "    }\n",
       "</style>\n",
       "<table border=\"1\" class=\"dataframe\">\n",
       "  <thead>\n",
       "    <tr style=\"text-align: right;\">\n",
       "      <th></th>\n",
       "      <th>Valeur fonciere</th>\n",
       "      <th>Surface reelle bati</th>\n",
       "      <th>Surface terrain</th>\n",
       "      <th>Surface</th>\n",
       "      <th>Prix m2</th>\n",
       "      <th>Valeur fonciere normalisee</th>\n",
       "    </tr>\n",
       "  </thead>\n",
       "  <tbody>\n",
       "    <tr>\n",
       "      <th>count</th>\n",
       "      <td>1.792937e+06</td>\n",
       "      <td>1.061830e+06</td>\n",
       "      <td>1.524873e+06</td>\n",
       "      <td>1.792937e+06</td>\n",
       "      <td>1.792937e+06</td>\n",
       "      <td>1.792937e+06</td>\n",
       "    </tr>\n",
       "    <tr>\n",
       "      <th>mean</th>\n",
       "      <td>1.602489e+05</td>\n",
       "      <td>7.790902e+01</td>\n",
       "      <td>6.444075e+02</td>\n",
       "      <td>5.592951e+02</td>\n",
       "      <td>8.183199e+02</td>\n",
       "      <td>2.620714e-01</td>\n",
       "    </tr>\n",
       "    <tr>\n",
       "      <th>std</th>\n",
       "      <td>1.318178e+05</td>\n",
       "      <td>8.495364e+01</td>\n",
       "      <td>5.728973e+02</td>\n",
       "      <td>5.672638e+02</td>\n",
       "      <td>1.007751e+03</td>\n",
       "      <td>2.155754e-01</td>\n",
       "    </tr>\n",
       "    <tr>\n",
       "      <th>min</th>\n",
       "      <td>1.500000e-01</td>\n",
       "      <td>0.000000e+00</td>\n",
       "      <td>0.000000e+00</td>\n",
       "      <td>1.000000e+00</td>\n",
       "      <td>5.753740e-05</td>\n",
       "      <td>0.000000e+00</td>\n",
       "    </tr>\n",
       "    <tr>\n",
       "      <th>25%</th>\n",
       "      <td>5.700000e+04</td>\n",
       "      <td>4.000000e+01</td>\n",
       "      <td>2.140000e+02</td>\n",
       "      <td>1.130000e+02</td>\n",
       "      <td>1.216028e+02</td>\n",
       "      <td>9.321776e-02</td>\n",
       "    </tr>\n",
       "    <tr>\n",
       "      <th>50%</th>\n",
       "      <td>1.350000e+05</td>\n",
       "      <td>7.300000e+01</td>\n",
       "      <td>4.980000e+02</td>\n",
       "      <td>3.910000e+02</td>\n",
       "      <td>3.795181e+02</td>\n",
       "      <td>2.207792e-01</td>\n",
       "    </tr>\n",
       "    <tr>\n",
       "      <th>75%</th>\n",
       "      <td>2.300000e+05</td>\n",
       "      <td>1.020000e+02</td>\n",
       "      <td>8.860000e+02</td>\n",
       "      <td>7.860000e+02</td>\n",
       "      <td>1.118189e+03</td>\n",
       "      <td>3.761426e-01</td>\n",
       "    </tr>\n",
       "    <tr>\n",
       "      <th>max</th>\n",
       "      <td>6.114700e+05</td>\n",
       "      <td>2.620000e+03</td>\n",
       "      <td>2.625000e+03</td>\n",
       "      <td>2.625000e+03</td>\n",
       "      <td>4.216216e+03</td>\n",
       "      <td>1.000000e+00</td>\n",
       "    </tr>\n",
       "  </tbody>\n",
       "</table>\n",
       "</div>"
      ],
      "text/plain": [
       "       Valeur fonciere  Surface reelle bati  Surface terrain       Surface  \\\n",
       "count     1.792937e+06         1.061830e+06     1.524873e+06  1.792937e+06   \n",
       "mean      1.602489e+05         7.790902e+01     6.444075e+02  5.592951e+02   \n",
       "std       1.318178e+05         8.495364e+01     5.728973e+02  5.672638e+02   \n",
       "min       1.500000e-01         0.000000e+00     0.000000e+00  1.000000e+00   \n",
       "25%       5.700000e+04         4.000000e+01     2.140000e+02  1.130000e+02   \n",
       "50%       1.350000e+05         7.300000e+01     4.980000e+02  3.910000e+02   \n",
       "75%       2.300000e+05         1.020000e+02     8.860000e+02  7.860000e+02   \n",
       "max       6.114700e+05         2.620000e+03     2.625000e+03  2.625000e+03   \n",
       "\n",
       "            Prix m2  Valeur fonciere normalisee  \n",
       "count  1.792937e+06                1.792937e+06  \n",
       "mean   8.183199e+02                2.620714e-01  \n",
       "std    1.007751e+03                2.155754e-01  \n",
       "min    5.753740e-05                0.000000e+00  \n",
       "25%    1.216028e+02                9.321776e-02  \n",
       "50%    3.795181e+02                2.207792e-01  \n",
       "75%    1.118189e+03                3.761426e-01  \n",
       "max    4.216216e+03                1.000000e+00  "
      ]
     },
     "execution_count": 22,
     "metadata": {},
     "output_type": "execute_result"
    }
   ],
   "source": [
    "df.describe()"
   ]
  },
  {
   "cell_type": "markdown",
   "id": "659b7609",
   "metadata": {},
   "source": [
    "### Proportion variables qualitatives"
   ]
  },
  {
   "cell_type": "code",
   "execution_count": 23,
   "id": "60c33ece",
   "metadata": {
    "ExecuteTime": {
     "end_time": "2022-05-05T18:58:04.217379Z",
     "start_time": "2022-05-05T18:58:04.212696Z"
    },
    "scrolled": true
   },
   "outputs": [],
   "source": [
    "def draw_boxplot(df, col):\n",
    "    graph = df[col].value_counts().to_frame()\n",
    "    graph.columns = ['Nombre']\n",
    "    graph['Nom'] = graph.index\n",
    "    graph.index = range(len(graph))\n",
    "    cutoff = graph['Nombre'].sum() * 0.025\n",
    "    graph.loc[graph['Nombre'] < cutoff, 'Nom'] = 'Autres'\n",
    "    graph = graph.groupby('Nom')['Nombre'].sum().reset_index()\n",
    "    graph.plot.pie(y='Nombre',\n",
    "                   labels=graph['Nom'],\n",
    "                   autopct='%1.2f%%',\n",
    "                   pctdistance=0.5,\n",
    "                   labeldistance=1.2,\n",
    "                   center=(0, 0),\n",
    "                   title=\"Répartition de la variable '\" + str(col) + \"'\",\n",
    "                   figsize=(5, 5),\n",
    "                   radius=1,\n",
    "                   legend=False,\n",
    "                   ylabel='')"
   ]
  },
  {
   "cell_type": "code",
   "execution_count": 24,
   "id": "babaa67f",
   "metadata": {
    "ExecuteTime": {
     "end_time": "2022-05-05T18:58:04.559338Z",
     "start_time": "2022-05-05T18:58:04.219813Z"
    }
   },
   "outputs": [
    {
     "data": {
      "image/png": "[encoded data removed]",
      "text/plain": [
       "<Figure size 360x360 with 1 Axes>"
      ]
     },
     "metadata": {},
     "output_type": "display_data"
    },
    {
     "data": {
      "image/png": "[encoded data removed]",
      "text/plain": [
       "<Figure size 360x360 with 1 Axes>"
      ]
     },
     "metadata": {},
     "output_type": "display_data"
    }
   ],
   "source": [
    "draw_boxplot(df, 'Nature mutation')\n",
    "draw_boxplot(df, 'Type local')"
   ]
  },
  {
   "cell_type": "markdown",
   "id": "b7d40f59",
   "metadata": {
    "ExecuteTime": {
     "end_time": "2022-05-05T15:43:58.166042Z",
     "start_time": "2022-05-05T15:43:58.163639Z"
    }
   },
   "source": [
    "### Distributions variables"
   ]
  },
  {
   "cell_type": "code",
   "execution_count": 25,
   "id": "02ead869",
   "metadata": {
    "ExecuteTime": {
     "end_time": "2022-05-05T18:58:05.658450Z",
     "start_time": "2022-05-05T18:58:04.561545Z"
    }
   },
   "outputs": [
    {
     "data": {
      "text/plain": [
       "Text(0.5, 1.0, 'Distribution des surfaces')"
      ]
     },
     "execution_count": 25,
     "metadata": {},
     "output_type": "execute_result"
    },
    {
     "data": {
      "image/png": "[encoded data removed]",
      "text/plain": [
       "<Figure size 1440x720 with 4 Axes>"
      ]
     },
     "metadata": {
      "needs_background": "light"
     },
     "output_type": "display_data"
    }
   ],
   "source": [
    "fig, (ax1, ax2) = plt.subplots(2, 2, figsize=[20,10])\n",
    "\n",
    "# Histogramme de la distribution des valeurs foncieres\n",
    "df['Valeur fonciere'].hist(bins=20, log=True, ax=ax1[0])\n",
    "ax1[0].set_title('Distribution des valeurs foncieres', fontsize=\"xx-large\", pad=15)\n",
    "\n",
    "# Histogramme de la distribution des surfaces\n",
    "df['Valeur fonciere normalisee'].hist(bins=20, log=True, ax=ax1[1])\n",
    "ax1[1].set_title('Valeur fonciere normalisee', fontsize=\"xx-large\", pad=15)\n",
    "\n",
    "# Histogramme de la distribution des prix au m2\n",
    "df['Prix m2'].hist(bins=20, log=True, ax=ax2[1])\n",
    "ax2[1].set_title('Distribution des prix m2', fontsize=\"xx-large\", pad=15)\n",
    "\n",
    "# Histogramme de la distribution des surfaces\n",
    "df['Surface'].hist(bins=20, log=True, ax=ax2[0])\n",
    "ax2[0].set_title('Distribution des surfaces', fontsize=\"xx-large\", pad=15)"
   ]
  },
  {
   "cell_type": "code",
   "execution_count": 26,
   "id": "6e1d4c47",
   "metadata": {
    "ExecuteTime": {
     "end_time": "2022-05-05T18:58:07.305264Z",
     "start_time": "2022-05-05T18:58:05.660624Z"
    }
   },
   "outputs": [
    {
     "data": {
      "text/plain": [
       "<AxesSubplot:>"
      ]
     },
     "execution_count": 26,
     "metadata": {},
     "output_type": "execute_result"
    },
    {
     "data": {
      "image/png": "[encoded data removed]",
      "text/plain": [
       "<Figure size 432x288 with 1 Axes>"
      ]
     },
     "metadata": {
      "needs_background": "light"
     },
     "output_type": "display_data"
    }
   ],
   "source": [
    "df.boxplot(column=['Valeur fonciere'])"
   ]
  },
  {
   "cell_type": "markdown",
   "id": "2bd9baf4",
   "metadata": {},
   "source": [
    "### Volume transactions mensuel"
   ]
  },
  {
   "cell_type": "code",
   "execution_count": 27,
   "id": "88742b26",
   "metadata": {
    "ExecuteTime": {
     "end_time": "2022-05-05T18:58:07.565146Z",
     "start_time": "2022-05-05T18:58:07.313365Z"
    }
   },
   "outputs": [
    {
     "data": {
      "text/plain": [
       "<AxesSubplot:xlabel='Date mutation'>"
      ]
     },
     "execution_count": 27,
     "metadata": {},
     "output_type": "execute_result"
    },
    {
     "data": {
      "image/png": "[encoded data removed]",
      "text/plain": [
       "<Figure size 432x288 with 1 Axes>"
      ]
     },
     "metadata": {
      "needs_background": "light"
     },
     "output_type": "display_data"
    }
   ],
   "source": [
    "df1 = df.groupby(df['Date mutation'].dt.to_period('M')).sum()\n",
    "df1 = df1.resample('M').asfreq().fillna(0)\n",
    "df1['Valeur fonciere'].plot(kind='bar')"
   ]
  },
  {
   "cell_type": "markdown",
   "id": "b99e1574",
   "metadata": {},
   "source": [
    "### Relation between variables"
   ]
  },
  {
   "cell_type": "code",
   "execution_count": 28,
   "id": "c72de7dd",
   "metadata": {
    "ExecuteTime": {
     "end_time": "2022-05-05T18:58:12.349795Z",
     "start_time": "2022-05-05T18:58:07.566553Z"
    }
   },
   "outputs": [
    {
     "data": {
      "text/plain": [
       "<AxesSubplot:xlabel='Valeur fonciere', ylabel='Surface reelle bati'>"
      ]
     },
     "execution_count": 28,
     "metadata": {},
     "output_type": "execute_result"
    },
    {
     "data": {
      "image/png": "[encoded data removed]",
      "text/plain": [
       "<Figure size 432x288 with 1 Axes>"
      ]
     },
     "metadata": {
      "needs_background": "light"
     },
     "output_type": "display_data"
    },
    {
     "data": {
      "image/png": "[encoded data removed]",
      "text/plain": [
       "<Figure size 432x288 with 1 Axes>"
      ]
     },
     "metadata": {
      "needs_background": "light"
     },
     "output_type": "display_data"
    }
   ],
   "source": [
    "df.plot('Valeur fonciere','Prix m2', kind='scatter', logx=True, logy=True)\n",
    "df.plot('Valeur fonciere','Surface reelle bati', kind='scatter', logx=True, logy=True)"
   ]
  },
  {
   "cell_type": "markdown",
   "id": "a9bb6c22",
   "metadata": {},
   "source": [
    "### Classement selon les prix m2"
   ]
  },
  {
   "cell_type": "code",
   "execution_count": 29,
   "id": "adf334e3",
   "metadata": {
    "ExecuteTime": {
     "end_time": "2022-05-05T18:58:13.087969Z",
     "start_time": "2022-05-05T18:58:12.351984Z"
    }
   },
   "outputs": [
    {
     "data": {
      "text/html": [
       "<div>\n",
       "<style scoped>\n",
       "    .dataframe tbody tr th:only-of-type {\n",
       "        vertical-align: middle;\n",
       "    }\n",
       "\n",
       "    .dataframe tbody tr th {\n",
       "        vertical-align: top;\n",
       "    }\n",
       "\n",
       "    .dataframe thead th {\n",
       "        text-align: right;\n",
       "    }\n",
       "</style>\n",
       "<table border=\"1\" class=\"dataframe\">\n",
       "  <thead>\n",
       "    <tr style=\"text-align: right;\">\n",
       "      <th></th>\n",
       "      <th>Prix m2</th>\n",
       "    </tr>\n",
       "    <tr>\n",
       "      <th>Commune</th>\n",
       "      <th></th>\n",
       "    </tr>\n",
       "  </thead>\n",
       "  <tbody>\n",
       "    <tr>\n",
       "      <th>ROUVROIS SUR OTHAIN</th>\n",
       "      <td>0.050725</td>\n",
       "    </tr>\n",
       "    <tr>\n",
       "      <th>CESSE</th>\n",
       "      <td>0.763359</td>\n",
       "    </tr>\n",
       "    <tr>\n",
       "      <th>FRAIN</th>\n",
       "      <td>0.934579</td>\n",
       "    </tr>\n",
       "    <tr>\n",
       "      <th>CHEVROCHES</th>\n",
       "      <td>1.126245</td>\n",
       "    </tr>\n",
       "    <tr>\n",
       "      <th>SAINT-GEORGES-DES-AGOUTS</th>\n",
       "      <td>1.234568</td>\n",
       "    </tr>\n",
       "    <tr>\n",
       "      <th>...</th>\n",
       "      <td>...</td>\n",
       "    </tr>\n",
       "    <tr>\n",
       "      <th>BAUME (LA)</th>\n",
       "      <td>3644.871795</td>\n",
       "    </tr>\n",
       "    <tr>\n",
       "      <th>LYON 7EME</th>\n",
       "      <td>3692.592593</td>\n",
       "    </tr>\n",
       "    <tr>\n",
       "      <th>PIERREFITTE-EN-AUGE</th>\n",
       "      <td>3808.703704</td>\n",
       "    </tr>\n",
       "    <tr>\n",
       "      <th>BOURGEAUVILLE</th>\n",
       "      <td>3845.930233</td>\n",
       "    </tr>\n",
       "    <tr>\n",
       "      <th>MERIA</th>\n",
       "      <td>3933.333333</td>\n",
       "    </tr>\n",
       "  </tbody>\n",
       "</table>\n",
       "<p>28111 rows × 1 columns</p>\n",
       "</div>"
      ],
      "text/plain": [
       "                              Prix m2\n",
       "Commune                              \n",
       "ROUVROIS SUR OTHAIN          0.050725\n",
       "CESSE                        0.763359\n",
       "FRAIN                        0.934579\n",
       "CHEVROCHES                   1.126245\n",
       "SAINT-GEORGES-DES-AGOUTS     1.234568\n",
       "...                               ...\n",
       "BAUME (LA)                3644.871795\n",
       "LYON 7EME                 3692.592593\n",
       "PIERREFITTE-EN-AUGE       3808.703704\n",
       "BOURGEAUVILLE             3845.930233\n",
       "MERIA                     3933.333333\n",
       "\n",
       "[28111 rows x 1 columns]"
      ]
     },
     "execution_count": 29,
     "metadata": {},
     "output_type": "execute_result"
    }
   ],
   "source": [
    "df = df.dropna(subset=['Surface terrain'])\n",
    "df = df.dropna(subset=['Surface reelle bati'])\n",
    "\n",
    "df = df[df['Surface terrain']!=0]\n",
    "df = df[df['Surface reelle bati']!=0]\n",
    "\n",
    "df.groupby(df['Commune']).mean().sort_values('Prix m2')['Prix m2'].to_frame()"
   ]
  },
  {
   "cell_type": "code",
   "execution_count": 30,
   "id": "3433f7f2",
   "metadata": {
    "ExecuteTime": {
     "end_time": "2022-05-05T18:58:13.181197Z",
     "start_time": "2022-05-05T18:58:13.089878Z"
    }
   },
   "outputs": [
    {
     "data": {
      "text/html": [
       "<div>\n",
       "<style scoped>\n",
       "    .dataframe tbody tr th:only-of-type {\n",
       "        vertical-align: middle;\n",
       "    }\n",
       "\n",
       "    .dataframe tbody tr th {\n",
       "        vertical-align: top;\n",
       "    }\n",
       "\n",
       "    .dataframe thead th {\n",
       "        text-align: right;\n",
       "    }\n",
       "</style>\n",
       "<table border=\"1\" class=\"dataframe\">\n",
       "  <thead>\n",
       "    <tr style=\"text-align: right;\">\n",
       "      <th></th>\n",
       "      <th>Prix m2</th>\n",
       "    </tr>\n",
       "    <tr>\n",
       "      <th>Code departement</th>\n",
       "      <th></th>\n",
       "    </tr>\n",
       "  </thead>\n",
       "  <tbody>\n",
       "    <tr>\n",
       "      <th>23</th>\n",
       "      <td>259.328095</td>\n",
       "    </tr>\n",
       "    <tr>\n",
       "      <th>58</th>\n",
       "      <td>287.836653</td>\n",
       "    </tr>\n",
       "    <tr>\n",
       "      <th>70</th>\n",
       "      <td>291.076631</td>\n",
       "    </tr>\n",
       "    <tr>\n",
       "      <th>36</th>\n",
       "      <td>292.678725</td>\n",
       "    </tr>\n",
       "    <tr>\n",
       "      <th>52</th>\n",
       "      <td>301.601045</td>\n",
       "    </tr>\n",
       "    <tr>\n",
       "      <th>...</th>\n",
       "      <td>...</td>\n",
       "    </tr>\n",
       "    <tr>\n",
       "      <th>78</th>\n",
       "      <td>1083.863190</td>\n",
       "    </tr>\n",
       "    <tr>\n",
       "      <th>95</th>\n",
       "      <td>1171.887550</td>\n",
       "    </tr>\n",
       "    <tr>\n",
       "      <th>93</th>\n",
       "      <td>1190.821566</td>\n",
       "    </tr>\n",
       "    <tr>\n",
       "      <th>94</th>\n",
       "      <td>1422.866462</td>\n",
       "    </tr>\n",
       "    <tr>\n",
       "      <th>92</th>\n",
       "      <td>1937.557030</td>\n",
       "    </tr>\n",
       "  </tbody>\n",
       "</table>\n",
       "<p>97 rows × 1 columns</p>\n",
       "</div>"
      ],
      "text/plain": [
       "                      Prix m2\n",
       "Code departement             \n",
       "23                 259.328095\n",
       "58                 287.836653\n",
       "70                 291.076631\n",
       "36                 292.678725\n",
       "52                 301.601045\n",
       "...                       ...\n",
       "78                1083.863190\n",
       "95                1171.887550\n",
       "93                1190.821566\n",
       "94                1422.866462\n",
       "92                1937.557030\n",
       "\n",
       "[97 rows x 1 columns]"
      ]
     },
     "execution_count": 30,
     "metadata": {},
     "output_type": "execute_result"
    }
   ],
   "source": [
    "df.groupby(df['Code departement']).mean().sort_values('Prix m2')['Prix m2'].to_frame()"
   ]
  },
  {
   "cell_type": "code",
   "execution_count": 31,
   "id": "4936cc2e",
   "metadata": {
    "ExecuteTime": {
     "end_time": "2022-05-05T18:58:13.266320Z",
     "start_time": "2022-05-05T18:58:13.182477Z"
    }
   },
   "outputs": [
    {
     "data": {
      "text/html": [
       "<div>\n",
       "<style scoped>\n",
       "    .dataframe tbody tr th:only-of-type {\n",
       "        vertical-align: middle;\n",
       "    }\n",
       "\n",
       "    .dataframe tbody tr th {\n",
       "        vertical-align: top;\n",
       "    }\n",
       "\n",
       "    .dataframe thead th {\n",
       "        text-align: right;\n",
       "    }\n",
       "</style>\n",
       "<table border=\"1\" class=\"dataframe\">\n",
       "  <thead>\n",
       "    <tr style=\"text-align: right;\">\n",
       "      <th></th>\n",
       "      <th>Prix m2</th>\n",
       "    </tr>\n",
       "    <tr>\n",
       "      <th>Type local</th>\n",
       "      <th></th>\n",
       "    </tr>\n",
       "  </thead>\n",
       "  <tbody>\n",
       "    <tr>\n",
       "      <th>Maison</th>\n",
       "      <td>580.248029</td>\n",
       "    </tr>\n",
       "    <tr>\n",
       "      <th>Local industriel. commercial ou assimilé</th>\n",
       "      <td>672.266625</td>\n",
       "    </tr>\n",
       "    <tr>\n",
       "      <th>Appartement</th>\n",
       "      <td>1054.636962</td>\n",
       "    </tr>\n",
       "  </tbody>\n",
       "</table>\n",
       "</div>"
      ],
      "text/plain": [
       "                                              Prix m2\n",
       "Type local                                           \n",
       "Maison                                     580.248029\n",
       "Local industriel. commercial ou assimilé   672.266625\n",
       "Appartement                               1054.636962"
      ]
     },
     "execution_count": 31,
     "metadata": {},
     "output_type": "execute_result"
    }
   ],
   "source": [
    "df.groupby(df['Type local']).mean().sort_values('Prix m2')['Prix m2'].to_frame()"
   ]
  },
  {
   "cell_type": "markdown",
   "id": "959f1efa",
   "metadata": {},
   "source": [
    "### Classement départements par nombre de transactions"
   ]
  },
  {
   "cell_type": "code",
   "execution_count": 32,
   "id": "393b6bbb",
   "metadata": {
    "ExecuteTime": {
     "end_time": "2022-05-05T18:58:13.294046Z",
     "start_time": "2022-05-05T18:58:13.268286Z"
    }
   },
   "outputs": [
    {
     "data": {
      "text/plain": [
       "59     36167\n",
       "33     19843\n",
       "44     18849\n",
       "77     17230\n",
       "62     16415\n",
       "       ...  \n",
       "05       534\n",
       "971      476\n",
       "2A       402\n",
       "75       315\n",
       "2B       197\n",
       "Name: Code departement, Length: 97, dtype: int64"
      ]
     },
     "execution_count": 32,
     "metadata": {},
     "output_type": "execute_result"
    }
   ],
   "source": [
    "df['Code departement'].value_counts()"
   ]
  }
 ],
 "metadata": {
  "kernelspec": {
   "display_name": "Python 3 (ipykernel)",
   "language": "python",
   "name": "python3"
  },
  "language_info": {
   "codemirror_mode": {
    "name": "ipython",
    "version": 3
   },
   "file_extension": ".py",
   "mimetype": "text/x-python",
   "name": "python",
   "nbconvert_exporter": "python",
   "pygments_lexer": "ipython3",
   "version": "3.9.7"
  },
  "toc": {
   "base_numbering": 1,
   "nav_menu": {},
   "number_sections": false,
   "sideBar": true,
   "skip_h1_title": false,
   "title_cell": "Table of Contents",
   "title_sidebar": "Contents",
   "toc_cell": false,
   "toc_position": {
    "height": "calc(100% - 180px)",
    "left": "10px",
    "top": "150px",
    "width": "250px"
   },
   "toc_section_display": true,
   "toc_window_display": true
  }
 },
 "nbformat": 4,
 "nbformat_minor": 5
}
